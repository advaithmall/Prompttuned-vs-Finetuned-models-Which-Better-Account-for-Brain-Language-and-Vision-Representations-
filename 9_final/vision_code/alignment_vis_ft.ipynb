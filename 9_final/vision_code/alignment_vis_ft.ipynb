{
 "cells": [
  {
   "cell_type": "code",
   "execution_count": 2,
   "metadata": {},
   "outputs": [
    {
     "name": "stdout",
     "output_type": "stream",
     "text": [
      "/home2/advaith.malladi\n",
      "4916\n",
      "4916\n",
      "['n01930112_19568.JPEG', 'n03733281_29214.JPEG', 'n07695742_5848.JPEG', 'COCO_train2014_000000420713.jpg', 'COCO_train2014_000000488558.jpg', 'n01917289_1429.JPEG', 'n02108551_26574.JPEG', 'COCO_train2014_000000029114.jpg', 'n02111277_28582.JPEG', 'concert5.jpg', 'COCO_train2014_000000539340.jpg', 'COCO_train2014_000000176728.jpg', 'garbagedump3.jpg', 'fabricstore1.jpg', 'track3.jpg', 'COCO_train2014_000000531657.jpg', 'COCO_train2014_000000032271.jpg', 'n04099969_6395.JPEG', 'COCO_train2014_000000285450.jpg', 'COCO_train2014_000000211198.jpg']\n",
      "COCO_train2014_000000420713.jpg concert5.jpg n01930112_19568.JPEG\n",
      "['CSI1_ROIs_TR5.h5', 'CSI1_ROIs_TR34.h5', 'CSI1_ROIs_TR1.h5', 'CSI1_ROIs_TR3.h5', 'CSI1_ROIs_TR2.h5', 'CSI1_ROIs_TR4.h5']\n",
      "Requirement already satisfied: h5py in /home2/advaith.malladi/miniconda3/lib/python3.11/site-packages (3.10.0)\n",
      "Requirement already satisfied: numpy>=1.17.3 in /home2/advaith.malladi/miniconda3/lib/python3.11/site-packages (from h5py) (1.26.0)\n"
     ]
    }
   ],
   "source": [
    "import os\n",
    "a4_path = \"csai_a4\"\n",
    "# print cwd\n",
    "print(os.getcwd())\n",
    "# move cwd to csai_a4\n",
    "os.chdir(a4_path)\n",
    "stim_path = \"CSI01_stim_lists.txt\"\n",
    "# opena nd load the file\n",
    "with open(stim_path, 'r') as f:\n",
    "    stim_list = f.read().splitlines()\n",
    "file_set = []\n",
    "indices_list = []\n",
    "for i in range(len(stim_list)):\n",
    "    file = stim_list[i]\n",
    "    # first 3 chars of the file name is not rep, add to the set\n",
    "    if file[:3] != \"rep\":\n",
    "        indices_list.append(i)\n",
    "        file_set.append(file)\n",
    "print(len(indices_list))\n",
    "fin_images = []\n",
    "for i in indices_list:\n",
    "    fin_images.append(stim_list[i])\n",
    "for file in fin_images:\n",
    "    # if file has first 3 chars as rep, print file name\n",
    "    if file[:3] == \"rep\":\n",
    "        print(file)\n",
    "print(len(file_set))\n",
    "print(stim_list[0:20])\n",
    "# for coco files: first 4 chars are COCO\n",
    "# for imagenet files: first 2 chars are n0 or n1\n",
    "# rest are Scene files\n",
    "coco_files = []\n",
    "imagenet_files = []\n",
    "scene_files = []\n",
    "for i in range(len(stim_list)):\n",
    "    if stim_list[i][0:4] == \"COCO\":\n",
    "        #print(stim_list[i][0:4], stim_list[i], \"coco\")\n",
    "        coco_files.append(stim_list[i])\n",
    "    elif stim_list[i][0:2] == \"n0\" or stim_list[i][0:2] == \"n1\":\n",
    "        #print(stim_list[i][0:2], stim_list[i], \"imagenet\")\n",
    "        imagenet_files.append(stim_list[i])\n",
    "    else:\n",
    "        #print(stim_list[i], \"scene\")\n",
    "        scene_files.append(stim_list[i] )\n",
    "print(coco_files[0], scene_files[0], imagenet_files[0])\n",
    "coco_dir = \"presented_stimuli/COCO/\"\n",
    "imagenet_dir = \"presented_stimuli/ImageNet/\"\n",
    "scene_dir = \"presented_stimuli/Scene/\"\n",
    "# check if these directories exist\n",
    "if not os.path.exists(coco_dir):\n",
    "    print(\"COCO directory does not exist\")\n",
    "if not os.path.exists(imagenet_dir):\n",
    "    print(\"Imagenet directory does not exist\")\n",
    "if not os.path.exists(scene_dir):\n",
    "    print(\"Scene directory does not exist\")\n",
    "root_path = \"CSI1/h5/\"\n",
    "# load all the files in the root path into list\n",
    "list_files = []\n",
    "for root, dirs, files in os.walk(root_path):\n",
    "    for file in files:\n",
    "        list_files.append(file)\n",
    "\n",
    "print(list_files)\n",
    "# load file CSI1/h5/CSI1_ROIs_TR1.h5\n",
    "!pip install h5py\n",
    "import h5py\n",
    "path = \"CSI1/h5/CSI1_ROIs_TR34.h5\"\n",
    "f = h5py.File(path, 'r')\n",
    "\n",
    "\n",
    "\n"
   ]
  },
  {
   "cell_type": "markdown",
   "metadata": {},
   "source": [
    "### Loading FMRI Data and Removing Repetitions"
   ]
  },
  {
   "cell_type": "code",
   "execution_count": 3,
   "metadata": {},
   "outputs": [
    {
     "name": "stdout",
     "output_type": "stream",
     "text": [
      "LHEarlyVis (5254, 210)\n",
      "LHLOC (5254, 152)\n",
      "LHOPA (5254, 101)\n",
      "LHPPA (5254, 131)\n",
      "LHRSC (5254, 86)\n",
      "RHEarlyVis (5254, 285)\n",
      "RHLOC (5254, 190)\n",
      "RHOPA (5254, 187)\n",
      "RHPPA (5254, 200)\n",
      "RHRSC (5254, 143)\n",
      "(5254, 342) (5254, 288) (5254, 331) (5254, 229) (5254, 495)\n",
      "4916 4916\n",
      "(4916, 342) (4916, 288) (4916, 331) (4916, 229) (4916, 495)\n"
     ]
    }
   ],
   "source": [
    "import numpy as np\n",
    "keys = list(f.keys())\n",
    "for key in keys:\n",
    "    print(key, f[key].shape)\n",
    "# concat LHLOC and RHLOC along dim 1\n",
    "lhloc = f[\"LHLOC\"]\n",
    "rhloc = f[\"RHLOC\"]\n",
    "lhloc.shape, rhloc.shape\n",
    "loc = np.concatenate([lhloc, rhloc], axis=1)\n",
    "loc.shape\n",
    "# same for OPA \n",
    "lhopa = f[\"LHOPA\"]\n",
    "rhopa = f[\"RHOPA\"]\n",
    "opa = np.concatenate([lhopa, rhopa], axis=1)\n",
    "# same for PPA \n",
    "lhppa = f[\"LHPPA\"]\n",
    "rhppa = f[\"RHPPA\"]\n",
    "ppa = np.concatenate([lhppa, rhppa], axis=1)\n",
    "# same for RSC\n",
    "lhrsc = f[\"LHRSC\"]\n",
    "rhrsc = f[\"RHRSC\"]\n",
    "rsc = np.concatenate([lhrsc, rhrsc], axis=1)\n",
    "# same for EarlyVis\n",
    "lhearlyvis = f[\"LHEarlyVis\"]\n",
    "rhearlyvis = f[\"RHEarlyVis\"]\n",
    "earlyvis = np.concatenate([lhearlyvis, rhearlyvis], axis=1)\n",
    "print(loc.shape, opa.shape, ppa.shape, rsc.shape, earlyvis.shape)\n",
    "print(len(indices_list), len(fin_images))\n",
    "# in array loc, include only the indices in indices_list\n",
    "loc_final = []\n",
    "for i in indices_list:\n",
    "    loc_final.append(loc[i])\n",
    "loc_final = np.array(loc_final)\n",
    "# do the same for opa, ppa, rsc, earlyvis\n",
    "opa_final = []\n",
    "for i in indices_list:\n",
    "    opa_final.append(opa[i])\n",
    "opa_final = np.array(opa_final)\n",
    "ppa_final = []\n",
    "for i in indices_list:\n",
    "    ppa_final.append(ppa[i])\n",
    "ppa_final = np.array(ppa_final)\n",
    "rsc_final = []\n",
    "for i in indices_list:\n",
    "    rsc_final.append(rsc[i])\n",
    "rsc_final = np.array(rsc_final)\n",
    "earlyvis_final = []\n",
    "for i in indices_list:\n",
    "    earlyvis_final.append(earlyvis[i])\n",
    "earlyvis_final = np.array(earlyvis_final)\n",
    "print(loc_final.shape, opa_final.shape, ppa_final.shape, rsc_final.shape, earlyvis_final.shape)\n"
   ]
  },
  {
   "cell_type": "markdown",
   "metadata": {},
   "source": [
    "### Stimulus Loading and Loading Model"
   ]
  },
  {
   "cell_type": "code",
   "execution_count": 4,
   "metadata": {},
   "outputs": [
    {
     "name": "stderr",
     "output_type": "stream",
     "text": [
      "/home2/advaith.malladi/miniconda3/lib/python3.11/site-packages/tqdm/auto.py:21: TqdmWarning: IProgress not found. Please update jupyter and ipywidgets. See https://ipywidgets.readthedocs.io/en/stable/user_install.html\n",
      "  from .autonotebook import tqdm as notebook_tqdm\n"
     ]
    }
   ],
   "source": [
    "import glob\n",
    "from pathlib import Path\n",
    "from PIL import Image\n",
    "from tqdm import tqdm, trange\n",
    "import pickle\n",
    "import wget\n",
    "import zipfile\n",
    "\n",
    "import numpy as np\n",
    "from scipy import stats\n",
    "from sklearn.linear_model import Ridge\n",
    "from sklearn.model_selection import GridSearchCV\n",
    "import matplotlib.pyplot as plt\n",
    "\n",
    "import torch\n",
    "import torchvision.models as models\n",
    "import torchvision.transforms as transforms\n",
    "from torch.autograd import Variable\n",
    "filename = fin_images[0]"
   ]
  },
  {
   "cell_type": "code",
   "execution_count": 36,
   "metadata": {},
   "outputs": [],
   "source": [
    "from transformers import ViTImageProcessor, ViTModel, AutoImageProcessor\n",
    "from PIL import Image\n",
    "from torch import nn, optim\n",
    "class Model(torch.nn.Module):\n",
    "    def __init__(self):\n",
    "        super().__init__()\n",
    "        self.model = ViTModel.from_pretrained('google/vit-base-patch16-224-in21k')\n",
    "        self.fc = torch.nn.Linear(768, 256)\n",
    "        self.fc2 = torch.nn.Linear(256, 10)\n",
    "        \n",
    "    def forward(self, x):\n",
    "        x = self.model(x).last_hidden_state[:,0]\n",
    "        x1 = self.model(x)\n",
    "        x = self.fc(x)\n",
    "        x = self.fc2(x)\n",
    "        return x, 2\n",
    "processor = ViTImageProcessor.from_pretrained('google/vit-base-patch16-224-in21k')\n",
    "mnist_pt = torch.load(\"./ft_models/mnist-final.pt\")\n",
    "cifar_pt = torch.load(\"./ft_models/cifar-final.pt\")"
   ]
  },
  {
   "cell_type": "code",
   "execution_count": 16,
   "metadata": {},
   "outputs": [
    {
     "name": "stdout",
     "output_type": "stream",
     "text": [
      "['mnist-final.pt', 'cifar-final.pt']\n"
     ]
    }
   ],
   "source": [
    "# print subdirs\n",
    "print(os.listdir(\"./ft_models\"))"
   ]
  },
  {
   "cell_type": "code",
   "execution_count": 38,
   "metadata": {},
   "outputs": [
    {
     "name": "stderr",
     "output_type": "stream",
     "text": [
      "100%|█████████████████████████████████████████████████████████████████████████████████████████████████████████████████████| 4916/4916 [08:45<00:00,  9.36it/s]\n"
     ]
    }
   ],
   "source": [
    "test_file = open(\"test.txt\", \"w\")\n",
    "from tqdm import tqdm\n",
    "import regex as re\n",
    "\n",
    "def get_feat(files):\n",
    "    mnist_feats = []\n",
    "    cifar_feats = []\n",
    "    coco_dir = \"presented_stimuli/COCO/\"\n",
    "    imagenet_dir = \"presented_stimuli/ImageNet/\"\n",
    "    scene_dir = \"presented_stimuli/Scene/\"\n",
    "    new_files = []\n",
    "    for file in files:\n",
    "        if file[0:4] == \"COCO\":\n",
    "            new_path = coco_dir + file\n",
    "        elif file[0:2] == \"n0\" or file[0:2] == \"n1\":\n",
    "            new_path = imagenet_dir + file\n",
    "        else:\n",
    "            new_path = scene_dir + file\n",
    "        new_files.append(new_path)\n",
    "    mnist_pt.to(\"cpu\")\n",
    "    for filename in tqdm(new_files, total = len(new_files)):\n",
    "        img = Image.open(filename)\n",
    "        img = processor(img, return_tensors=\"pt\")\n",
    "        img = img['pixel_values']\n",
    "        img = img.to(\"cpu\")\n",
    "        feats = mnist_pt.model(img)\n",
    "        feats = feats['last_hidden_state']\n",
    "        # feats is of shape 1, a, b change to 1, b by summing over a\n",
    "        feats = torch.mean(feats, dim=1)\n",
    "        feats = feats.squeeze(0)\n",
    "        # connvert to numpy array\n",
    "        feats = feats.detach().numpy()\n",
    "        feats1 = feats\n",
    "        mnist_feats.append(feats)\n",
    "        cifar_pt.to(\"cpu\")\n",
    "        feats = cifar_pt.model(img)\n",
    "        feats = feats['last_hidden_state']\n",
    "        feats = torch.mean(feats, dim=1)\n",
    "        feats = feats.squeeze(0)\n",
    "        feats = feats.detach().numpy()\n",
    "        cifar_feats.append(feats)\n",
    "\n",
    "    mnist_feats = np.array(mnist_feats)\n",
    "    cifar_feats = np.array(cifar_feats)\n",
    "    return mnist_feats, cifar_feats\n",
    "\n",
    "    \n",
    "mnist_feats, cifar_feats = get_feat(fin_images)\n",
    "            "
   ]
  },
  {
   "cell_type": "markdown",
   "metadata": {},
   "source": [
    "### Brain Decoding"
   ]
  },
  {
   "cell_type": "code",
   "execution_count": 39,
   "metadata": {},
   "outputs": [],
   "source": [
    "from sklearn.linear_model import Ridge\n",
    "from sklearn.model_selection import KFold\n",
    "from sklearn.metrics import mean_squared_error\n",
    "# import R2 as well\n",
    "from sklearn.metrics import r2_score\n",
    "def cos_d(y1, y2):\n",
    "    cos_sim = np.dot(y1, y2)/(np.linalg.norm(y1)*np.linalg.norm(y2))\n",
    "    cos_d = 1 - cos_sim\n",
    "    return cos_d\n",
    "def get_2v2_accuracy(y_pred, y_test):\n",
    "    N = y_pred.shape[0]\n",
    "    tot_cnt = 0\n",
    "    pos_cnt = 0\n",
    "    for i in range(0, N):\n",
    "        for j in range(1, N):\n",
    "            yi_test = y_test[i]\n",
    "            yi_pred = y_pred[i]\n",
    "            yj_test = y_test[j]\n",
    "            yj_pred = y_pred[j]\n",
    "            score1 = cos_d(yi_test, yi_pred) + cos_d(yj_test, yj_pred)\n",
    "            score2 = cos_d(yi_test, yj_pred) + cos_d(yj_test, yi_pred)\n",
    "            if score1 < score2:\n",
    "                pos_cnt += 1\n",
    "            tot_cnt += 1\n",
    "    return pos_cnt/tot_cnt\n",
    "\n",
    "def get_avg_corr(y_pred, y_test):\n",
    "    N = y_pred.shape[0]\n",
    "    tot_corr = 0\n",
    "    for i in range(0, N):\n",
    "        corr = np.corrcoef(y_pred[i], y_test[i])[0,1]\n",
    "        tot_corr += corr\n",
    "    return tot_corr/N\n",
    "\n",
    "def decoding_module(X, y):\n",
    "    kf = KFold(n_splits=5)\n",
    "    mse = []\n",
    "    r2 = []\n",
    "    acc = []\n",
    "    acc_scores = []\n",
    "    corr_scores = []\n",
    "    for train_index, test_index in  kf.split(X) :\n",
    "        X_train, X_test = X[train_index], X[test_index]\n",
    "        y_train, y_test = y[train_index], y[test_index]\n",
    "        model = Ridge()\n",
    "        model.fit(X_train, y_train)\n",
    "        y_pred = model.predict(X_test)\n",
    "        get_2v2_accuracy(y_pred, y_test)\n",
    "        mse.append(mean_squared_error(y_test, y_pred))\n",
    "        r2.append(r2_score(y_test, y_pred))\n",
    "        acc_scores.append(get_2v2_accuracy(y_pred, y_test))\n",
    "        corr_scores.append(get_avg_corr(y_pred, y_test))\n",
    "    loc_dict = {}\n",
    "    loc_dict[\"MSE\"] = np.mean(mse)\n",
    "    loc_dict[\"R2\"] = np.mean(r2)\n",
    "    loc_dict[\"Accuracy\"] = np.mean(acc_scores)\n",
    "    loc_dict[\"Correlation\"] = np.mean(corr_scores)\n",
    "    return loc_dict\n",
    "\n"
   ]
  },
  {
   "cell_type": "code",
   "execution_count": 40,
   "metadata": {},
   "outputs": [
    {
     "name": "stdout",
     "output_type": "stream",
     "text": [
      "{'MSE': 0.02647252763808956, 'R2': 0.0041543671112207504, 'Accuracy': 0.8235325833491546, 'Correlation': 0.23793717340274717}\n",
      "{'MSE': 0.026411095184719936, 'R2': 0.006623931100048873, 'Accuracy': 0.8358981411665425, 'Correlation': 0.24200780397250493}\n",
      "{'MSE': 0.026713450675021684, 'R2': -0.004788656731036923, 'Accuracy': 0.7780233649824237, 'Correlation': 0.22365200167580984}\n",
      "{'MSE': 0.026618749949985053, 'R2': -0.0012165771386583393, 'Accuracy': 0.738504008476591, 'Correlation': 0.22724555255039086}\n",
      "{'MSE': 0.026608115951055066, 'R2': -0.0008148879601172927, 'Accuracy': 0.7621128791899664, 'Correlation': 0.22870076157186792}\n",
      "{'MSE': 0.002414068100435133, 'R2': 0.03158524498904663, 'Accuracy': 0.8187468950197164, 'Correlation': 0.9732142639837548}\n",
      "{'MSE': 0.0024108995244888818, 'R2': 0.032956543591406165, 'Accuracy': 0.8206019237103114, 'Correlation': 0.9732475614129598}\n",
      "{'MSE': 0.002421911230435, 'R2': 0.027879907209845723, 'Accuracy': 0.8092526875381981, 'Correlation': 0.9731317096465604}\n",
      "{'MSE': 0.002442584522381986, 'R2': 0.020563969627406815, 'Accuracy': 0.7418108746981601, 'Correlation': 0.9728956524088307}\n",
      "{'MSE': 0.0024159126630882545, 'R2': 0.030432536446096458, 'Accuracy': 0.8097167713901884, 'Correlation': 0.973198799641005}\n"
     ]
    }
   ],
   "source": [
    "feats = [mnist_feats, cifar_feats]\n",
    "feat_names = [\"mnist\",\"cifar\"]\n",
    "rois = [loc_final, opa_final, ppa_final, rsc_final, earlyvis_final]\n",
    "roi_names = [\"LOC\", \"OPA\", \"PPA\", \"RSC\", \"EarlyVis\"]\n",
    "decoding_results = {}\n",
    "for i in range(len(feats)):\n",
    "    for j in range(len(rois)):\n",
    "        str1 = f\"Decoding {feat_names[i]} using {roi_names[j]}\"\n",
    "        loc_feat = feats[i]\n",
    "        loc_roi = rois[j]\n",
    "        x = loc_roi\n",
    "        y = loc_feat\n",
    "        loc_results = decoding_module(x,y)\n",
    "        print(loc_results)\n",
    "        decoding_results[str1] = loc_results"
   ]
  },
  {
   "cell_type": "code",
   "execution_count": 41,
   "metadata": {},
   "outputs": [
    {
     "name": "stdout",
     "output_type": "stream",
     "text": [
      "{'MSE': 0.00011885648582680339, 'R2': -0.17866348395523154, 'Accuracy': 0.7130714980829449, 'Correlation': 0.2018421424433569}\n",
      "{'MSE': 8.852211092197959e-05, 'R2': -0.1336067085528837, 'Accuracy': 0.7654229231392973, 'Correlation': 0.26753184899618654}\n",
      "{'MSE': 0.000301979477498544, 'R2': -0.16109438353600197, 'Accuracy': 0.7370943771164252, 'Correlation': 0.14609454765286845}\n",
      "{'MSE': 0.00024847741779073244, 'R2': -0.13665671362460646, 'Accuracy': 0.6817700597202262, 'Correlation': 0.09534326142922098}\n",
      "{'MSE': 0.00015117522258125158, 'R2': -0.19832090451940484, 'Accuracy': 0.6469236466387616, 'Correlation': 0.21113781462444012}\n",
      "{'MSE': 0.00010610979915177875, 'R2': -0.046849755640764344, 'Accuracy': 0.7601774092646707, 'Correlation': 0.25541732251307825}\n",
      "{'MSE': 7.994186072624342e-05, 'R2': -0.017977612400188327, 'Accuracy': 0.7876787408698862, 'Correlation': 0.3175619497482046}\n",
      "{'MSE': 0.00026954577347629814, 'R2': -0.03360592596831172, 'Accuracy': 0.7653266189537539, 'Correlation': 0.19081835998780425}\n",
      "{'MSE': 0.0002241546374244895, 'R2': -0.020856251272763252, 'Accuracy': 0.6908361658737844, 'Correlation': 0.12064509415450708}\n",
      "{'MSE': 0.0001347844590490512, 'R2': -0.06387451833007728, 'Accuracy': 0.69155007193557, 'Correlation': 0.26683144259466096}\n"
     ]
    }
   ],
   "source": [
    "feats = [mnist_feats, cifar_feats]\n",
    "feat_names = [\"mnist\", \"cifar\"]\n",
    "rois = [loc_final, opa_final, ppa_final, rsc_final, earlyvis_final]\n",
    "roi_names = [\"LOC\", \"OPA\", \"PPA\", \"RSC\", \"EarlyVis\"]\n",
    "encoding_results = {}\n",
    "for i in range(len(feats)):\n",
    "    for j in range(len(rois)):\n",
    "        str1 = f\"Decoding {feat_names[i]} using {roi_names[j]}\"\n",
    "        loc_feat = feats[i]\n",
    "        loc_roi = rois[j]\n",
    "        y = loc_roi\n",
    "        x = loc_feat\n",
    "        loc_results = decoding_module(x,y)\n",
    "        print(loc_results)\n",
    "        encoding_results[str1] = loc_results"
   ]
  },
  {
   "cell_type": "code",
   "execution_count": 42,
   "metadata": {},
   "outputs": [],
   "source": [
    "# save encoding_results as encoding_ft_vis.json and indent 4\n",
    "import json\n",
    "with open(\"encoding_ft_vis.json\", \"w\") as f:\n",
    "    json.dump(encoding_results, f, indent=4)"
   ]
  },
  {
   "cell_type": "code",
   "execution_count": 43,
   "metadata": {},
   "outputs": [],
   "source": [
    "# same for decoding\n",
    "with open(\"decoding_ft_vis.json\", \"w\") as f:\n",
    "    json.dump(decoding_results, f, indent=4)"
   ]
  },
  {
   "cell_type": "code",
   "execution_count": 44,
   "metadata": {},
   "outputs": [
    {
     "name": "stdout",
     "output_type": "stream",
     "text": [
      "/home2/advaith.malladi/csai_a4\n"
     ]
    }
   ],
   "source": [
    "# print cwd\n",
    "print(os.getcwd())"
   ]
  }
 ],
 "metadata": {
  "kernelspec": {
   "display_name": "Python (base)",
   "language": "python",
   "name": "base"
  },
  "language_info": {
   "codemirror_mode": {
    "name": "ipython",
    "version": 3
   },
   "file_extension": ".py",
   "mimetype": "text/x-python",
   "name": "python",
   "nbconvert_exporter": "python",
   "pygments_lexer": "ipython3",
   "version": "3.11.5"
  }
 },
 "nbformat": 4,
 "nbformat_minor": 2
}
