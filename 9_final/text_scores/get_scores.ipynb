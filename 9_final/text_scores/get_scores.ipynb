{
 "cells": [
  {
   "cell_type": "code",
   "execution_count": 1,
   "metadata": {},
   "outputs": [],
   "source": [
    "import json"
   ]
  },
  {
   "cell_type": "code",
   "execution_count": 2,
   "metadata": {},
   "outputs": [],
   "source": [
    "# chdir to text_scores\n",
    "import os\n",
    "path = \"text_scores\"\n",
    "os.chdir(path)\n"
   ]
  },
  {
   "cell_type": "code",
   "execution_count": 3,
   "metadata": {},
   "outputs": [
    {
     "name": "stdout",
     "output_type": "stream",
     "text": [
      "['pt_subj2_encoding_scores.json', 'ft_subj1_decoding_scores.json', 'get_scores.ipynb', 'pt_subj1_encoding_scores.json', 'ft_subj2_decoding_scores.json', 'pt_subj2_decoding_scores.json', 'ft_subj2_encoding_scores.json', 'pt_subj1_decoding_scores.json', 'ft_subj1_encoding_scores.json']\n"
     ]
    }
   ],
   "source": [
    "print(os.listdir())"
   ]
  },
  {
   "cell_type": "code",
   "execution_count": 4,
   "metadata": {},
   "outputs": [],
   "source": [
    "pt_subj1_encoding_scores = {}\n",
    "# load filename pt_subj2_encoding_scores.json\n",
    "with open(\"pt_subj2_encoding_scores.json\", \"r\") as f:\n",
    "    pt_subj1_encoding_scores = json.load(f)\n",
    "pt_subj1_decoding_scores = {}\n",
    "# load filename pt_subj2_decoding_scores.json\n",
    "with open(\"pt_subj2_decoding_scores.json\", \"r\") as f:\n",
    "    pt_subj1_decoding_scores = json.load(f)\n",
    "ft_subj1_encoding_scores = {}\n",
    "# load filename ft_subj2_encoding_scores.json\n",
    "with open(\"ft_subj2_encoding_scores.json\", \"r\") as f:\n",
    "    ft_subj1_encoding_scores = json.load(f)\n",
    "ft_subj1_decoding_scores = {}\n",
    "# load filename ft_subj2_decoding_scores.json\n",
    "with open(\"ft_subj2_decoding_scores.json\", \"r\") as f:\n",
    "    ft_subj1_decoding_scores = json.load(f)\n",
    "    \n",
    "\n"
   ]
  },
  {
   "cell_type": "code",
   "execution_count": 30,
   "metadata": {},
   "outputs": [],
   "source": [
    "pt_subj2_encoding_scores = {}\n",
    "# load filename pt_subj2_encoding_scores.json\n",
    "with open(\"pt_subj2_encoding_scores.json\", \"r\") as f:\n",
    "    pt_subj2_encoding_scores = json.load(f)\n",
    "pt_subj2_decoding_scores = {}\n",
    "# load filename pt_subj2_decoding_scores.json\n",
    "with open(\"pt_subj2_decoding_scores.json\", \"r\") as f:\n",
    "    pt_subj2_decoding_scores = json.load(f)\n",
    "ft_subj2_encoding_scores = {}\n",
    "# load filename ft_subj2_encoding_scores.json\n",
    "with open(\"ft_subj2_encoding_scores.json\", \"r\") as f:\n",
    "    ft_subj2_encoding_scores = json.load(f)\n",
    "ft_subj2_decoding_scores = {}\n",
    "# load filename ft_subj2_decoding_scores.json\n",
    "with open(\"ft_subj2_decoding_scores.json\", \"r\") as f:\n",
    "    ft_subj2_decoding_scores = json.load(f)\n",
    "    \n",
    "\n"
   ]
  },
  {
   "cell_type": "code",
   "execution_count": 7,
   "metadata": {},
   "outputs": [
    {
     "name": "stdout",
     "output_type": "stream",
     "text": [
      "dict_keys(['decoding prompt-tuned-summarization with subj2_lang', 'decoding prompt-tuned-summarization with subj2_vis', 'decoding prompt-tuned-summarization with subj2_dmn', 'decoding prompt-tuned-summarization with subj2_task', 'decoding prompt-tuned-question-answering with subj2_lang', 'decoding prompt-tuned-question-answering with subj2_vis', 'decoding prompt-tuned-question-answering with subj2_dmn', 'decoding prompt-tuned-question-answering with subj2_task', 'decoding prompt-tuned-translation with subj2_lang', 'decoding prompt-tuned-translation with subj2_vis', 'decoding prompt-tuned-translation with subj2_dmn', 'decoding prompt-tuned-translation with subj2_task'])\n",
      "decoding prompt-tuned-question-answering with subj2_task\n",
      "{'MSE': 0.38442586414089824, 'R2': -0.6578138943462977, 'Accuracy': 0.6226164874551972, 'Correlation': 0.9581040126827242}\n",
      "----------------------------------------------------------------------------------------------------\n",
      "decoding prompt-tuned-translation with subj2_task\n",
      "{'MSE': 0.3806434855816832, 'R2': -0.6662523945201411, 'Accuracy': 0.6107594470046083, 'Correlation': 0.953483643996106}\n",
      "----------------------------------------------------------------------------------------------------\n",
      "decoding prompt-tuned-summarization with subj2_task\n",
      "{'MSE': 0.38321955636877814, 'R2': -0.651942407208009, 'Accuracy': 0.6319266769073221, 'Correlation': 0.9579453815496233}\n",
      "----------------------------------------------------------------------------------------------------\n"
     ]
    }
   ],
   "source": [
    "roi = \"task\"\n",
    "method = 'decoding'\n",
    "print(ft_subj1_decoding_scores.keys())\n",
    "key_set = set(ft_subj1_decoding_scores.keys())\n",
    "for key in key_set:\n",
    "    if 'task' in key:\n",
    "        print(key)\n",
    "        print(ft_subj1_decoding_scores[key])\n",
    "        print('-'*100)"
   ]
  },
  {
   "cell_type": "code",
   "execution_count": 8,
   "metadata": {},
   "outputs": [
    {
     "name": "stdout",
     "output_type": "stream",
     "text": [
      "dict_keys(['decoding prompt-tuned-summarization with subj2_lang', 'decoding prompt-tuned-summarization with subj2_vis', 'decoding prompt-tuned-summarization with subj2_dmn', 'decoding prompt-tuned-summarization with subj2_task', 'decoding prompt-tuned-question-answering with subj2_lang', 'decoding prompt-tuned-question-answering with subj2_vis', 'decoding prompt-tuned-question-answering with subj2_dmn', 'decoding prompt-tuned-question-answering with subj2_task', 'decoding prompt-tuned-translation with subj2_lang', 'decoding prompt-tuned-translation with subj2_vis', 'decoding prompt-tuned-translation with subj2_dmn', 'decoding prompt-tuned-translation with subj2_task'])\n",
      "decoding prompt-tuned-question-answering with subj2_task\n",
      "{'MSE': 0.35077004519126753, 'R2': -0.6250790389973478, 'Accuracy': 0.7126539682539683, 'Correlation': 0.9532297534357799}\n",
      "----------------------------------------------------------------------------------------------------\n",
      "decoding prompt-tuned-translation with subj2_task\n",
      "{'MSE': 0.21055305811577196, 'R2': -0.4823323738101248, 'Accuracy': 0.6451535074244752, 'Correlation': 0.9989869502257841}\n",
      "----------------------------------------------------------------------------------------------------\n",
      "decoding prompt-tuned-summarization with subj2_task\n",
      "{'MSE': 0.35077004519126753, 'R2': -0.6250790389973478, 'Accuracy': 0.7126539682539683, 'Correlation': 0.9532297534357799}\n",
      "----------------------------------------------------------------------------------------------------\n"
     ]
    }
   ],
   "source": [
    "print(ft_subj1_decoding_scores.keys())\n",
    "key_set = set(ft_subj1_decoding_scores.keys())\n",
    "for key in key_set:\n",
    "    if 'task' in key:\n",
    "        print(key)\n",
    "        print(pt_subj1_decoding_scores[key])\n",
    "        print('-'*100)"
   ]
  },
  {
   "cell_type": "code",
   "execution_count": 32,
   "metadata": {},
   "outputs": [
    {
     "name": "stdout",
     "output_type": "stream",
     "text": [
      "dict_keys(['decoding prompt-tuned-summarization with subj2_lang', 'decoding prompt-tuned-summarization with subj2_vis', 'decoding prompt-tuned-summarization with subj2_dmn', 'decoding prompt-tuned-summarization with subj2_task', 'decoding prompt-tuned-question-answering with subj2_lang', 'decoding prompt-tuned-question-answering with subj2_vis', 'decoding prompt-tuned-question-answering with subj2_dmn', 'decoding prompt-tuned-question-answering with subj2_task', 'decoding prompt-tuned-translation with subj2_lang', 'decoding prompt-tuned-translation with subj2_vis', 'decoding prompt-tuned-translation with subj2_dmn', 'decoding prompt-tuned-translation with subj2_task'])\n",
      "Fine Tuned Translation  :  0.6107594470046083\n",
      "Fine Tuned Question Answering  :  0.6226164874551972\n",
      "Fine Tuned Question Answering  :  0.6319266769073221\n",
      "--------------------\n",
      "Prompt Tuned Question Answering  :  0.7126539682539683\n",
      "Prompt Tuned Translation  :  0.6451535074244752\n",
      "Prompt Tuned Question Answering  :  0.7126539682539683\n"
     ]
    }
   ],
   "source": [
    "roi = \"task\"\n",
    "method = 'decoding'\n",
    "print(ft_subj1_decoding_scores.keys())\n",
    "key_set = set(ft_subj1_encoding_scores.keys())\n",
    "for key in key_set:\n",
    "    if 'task' in key:\n",
    "        score = ft_subj1_encoding_scores[key]['Accuracy']\n",
    "        task = \"\"\n",
    "        if \"summarization\" in key:\n",
    "            task = \"Summaries\"\n",
    "        if \"translation\" in key:\n",
    "            task = \"Translation\"\n",
    "        else:\n",
    "            task = \"Question Answering\"\n",
    "        task = \"Fine Tuned \" + task\n",
    "        print(task, \" : \", score)\n",
    "print(\"-\"*20)\n",
    "key_set = set(pt_subj1_decoding_scores.keys())\n",
    "for key in key_set:\n",
    "    if 'task' in key:\n",
    "        score = pt_subj1_decoding_scores[key]['Accuracy']\n",
    "        task = \"\"\n",
    "        if \"summarization\" in key:\n",
    "            task = \"Summaries\"\n",
    "        if \"translation\" in key:\n",
    "            task = \"Translation\"\n",
    "        else:\n",
    "            task = \"Question Answering\"\n",
    "        task = \"Prompt Tuned \" + task\n",
    "        print(task, \" : \", score)"
   ]
  },
  {
   "cell_type": "code",
   "execution_count": 31,
   "metadata": {},
   "outputs": [
    {
     "name": "stdout",
     "output_type": "stream",
     "text": [
      "dict_keys(['encoding prompt-tuned-summarization with subj2_lang', 'encoding prompt-tuned-summarization with subj2_vis', 'encoding prompt-tuned-summarization with subj2_dmn', 'encoding prompt-tuned-summarization with subj2_task', 'encoding prompt-tuned-question-answering with subj2_lang', 'encoding prompt-tuned-question-answering with subj2_vis', 'encoding prompt-tuned-question-answering with subj2_dmn', 'encoding prompt-tuned-question-answering with subj2_task', 'encoding prompt-tuned-translation with subj2_lang', 'encoding prompt-tuned-translation with subj2_vis', 'encoding prompt-tuned-translation with subj2_dmn', 'encoding prompt-tuned-translation with subj2_task'])\n",
      "Fine Tuned Translation  :  0.6107594470046083\n",
      "Fine Tuned Question Answering  :  0.6226164874551972\n",
      "Fine Tuned Question Answering  :  0.6319266769073221\n",
      "--------------------\n",
      "Prompt Tuned Translation  :  0.6451535074244752\n",
      "Prompt Tuned Question Answering  :  0.7126539682539683\n",
      "Prompt Tuned Question Answering  :  0.7126539682539683\n"
     ]
    }
   ],
   "source": [
    "roi = \"task\"\n",
    "method = 'encoding'\n",
    "print(ft_subj2_encoding_scores.keys())\n",
    "key_set = set(ft_subj2_encoding_scores.keys())\n",
    "for key in key_set:\n",
    "    if 'task' in key:\n",
    "        score = ft_subj2_encoding_scores[key]['Accuracy']\n",
    "        task = \"\"\n",
    "        if \"summarization\" in key:\n",
    "            task = \"Summaries\"\n",
    "        if \"translation\" in key:\n",
    "            task = \"Translation\"\n",
    "        else:\n",
    "            task = \"Question Answering\"\n",
    "        task = \"Fine Tuned \" + task\n",
    "        print(task, \" : \", score)\n",
    "\n",
    "print(\"-\"*20)\n",
    "key_set = set(pt_subj2_encoding_scores.keys())\n",
    "for key in key_set:\n",
    "    if 'task' in key:\n",
    "        score = pt_subj2_encoding_scores[key]['Accuracy']\n",
    "        task = \"\"\n",
    "        if \"summarization\" in key:\n",
    "            task = \"Summaries\"\n",
    "        if \"translation\" in key:\n",
    "            task = \"Translation\"\n",
    "        else:\n",
    "            task = \"Question Answering\"\n",
    "        task = \"Prompt Tuned \" + task\n",
    "        print(task, \" : \", score)"
   ]
  }
 ],
 "metadata": {
  "kernelspec": {
   "display_name": "Python (base)",
   "language": "python",
   "name": "base"
  },
  "language_info": {
   "codemirror_mode": {
    "name": "ipython",
    "version": 3
   },
   "file_extension": ".py",
   "mimetype": "text/x-python",
   "name": "python",
   "nbconvert_exporter": "python",
   "pygments_lexer": "ipython3",
   "version": "3.11.5"
  }
 },
 "nbformat": 4,
 "nbformat_minor": 2
}
